{
 "cells": [
  {
   "cell_type": "code",
   "execution_count": 17,
   "metadata": {},
   "outputs": [],
   "source": [
    "import numpy as np\n",
    "import cv2 as cv\n",
    "import matplotlib\n",
    "matplotlib.use('TkAgg')\n",
    "import matplotlib.pyplot as plt\n",
    "import copy"
   ]
  },
  {
   "attachments": {},
   "cell_type": "markdown",
   "metadata": {},
   "source": [
    "================================== Part One - Shi-Thomas =================================="
   ]
  },
  {
   "cell_type": "code",
   "execution_count": 27,
   "metadata": {},
   "outputs": [],
   "source": [
    "video_address = r\"../Input/book_low.mp4\"\n",
    "video = cv.VideoCapture(video_address)\n",
    "ret, previous_frame = video.read()\n",
    "previous_image = cv.cvtColor(previous_frame, cv.COLOR_BGR2GRAY)\n",
    "previous_image = cv.GaussianBlur(previous_image, ksize=(15, 15), sigmaX=2, sigmaY=2)\n",
    "colored_image = copy.deepcopy(previous_frame)\n",
    "\n",
    "max_corners = 50\n",
    "quality_level = 0.3\n",
    "min_distance = 10\n",
    "block_size = 10\n",
    "mask = None\n",
    "\n",
    "points = cv.goodFeaturesToTrack(previous_image, maxCorners=max_corners, qualityLevel=quality_level, minDistance=min_distance, mask=None, blockSize=block_size, useHarrisDetector=False)\n",
    "for i in range(len(points)):\n",
    "    cv.circle(colored_image, (int(points[i][0][0]), int(points[i][0][1])), 3, (0, 127, 250), -1)\n",
    "\n",
    "save_address =\"../Outputs/Q1/best_result.png\"\n",
    "# save_address =\"../Outputs/Q1/\" +\"mx_corners_\"+str(max_corners)+\"_quality_level_\"+str(quality_level)+\"_min_distance_\"+str(min_distance)+\"_block_size_\"+str(block_size)+\".png\"\n",
    "\n",
    "cv.imshow(\"Output\", colored_image)\n",
    "cv.imwrite(save_address, colored_image)\n",
    "cv.waitKey(0)\n",
    "cv.destroyAllWindows()"
   ]
  },
  {
   "attachments": {},
   "cell_type": "markdown",
   "metadata": {},
   "source": [
    "================================== Part Two - Kanade =================================="
   ]
  },
  {
   "cell_type": "code",
   "execution_count": 29,
   "metadata": {},
   "outputs": [],
   "source": [
    "fourcc = cv.VideoWriter_fourcc(*'MP4V')\n",
    "out = cv.VideoWriter('output_Kanade.mp4', fourcc, 30.0, (previous_frame.shape[1], previous_frame.shape[0]))\n",
    "count = 1\n",
    "endpoints_new = []\n",
    "points_previous = []\n",
    "while True:\n",
    "    ret, frame = video.read()\n",
    "    if not ret:\n",
    "        break\n",
    "    \n",
    "    new_image = cv.cvtColor(frame, cv.COLOR_BGR2GRAY)\n",
    "    points, state, err = cv.calcOpticalFlowPyrLK(previous_image, new_image, points, None,winSize  = (20, 20),maxLevel = 25,criteria = (cv.TERM_CRITERIA_EPS | cv.TERM_CRITERIA_COUNT, 10, 0.03))\n",
    "    previous_image = new_image.copy()\n",
    "    endpoints_next = []\n",
    "\n",
    "    if len(points) > 0:\n",
    "        for i,status in enumerate(state):\n",
    "            if status == 1:\n",
    "                endpoints_next.append(points[i])\n",
    "            else:\n",
    "                endpoints_next.append(None)\n",
    "    \n",
    "    if len(endpoints_next) > 0 and len(endpoints_new) > 0:\n",
    "        for old,new in zip(endpoints_new,endpoints_next):\n",
    "            if old is not None and new is not None:\n",
    "                frame = cv.arrowedLine(frame,  old[0].astype(int),  new[0].astype(int), (255,255,0), 1, tipLength = 0.5)\n",
    "    \n",
    "    if len(endpoints_new) > 0 and len(points_previous) > 0:\n",
    "        for old, new in zip(points_previous, endpoints_new):\n",
    "            if old is not None and new is not None:\n",
    "                frame = cv.arrowedLine(frame, old[0].astype(int), new[0].astype(int), (0, 255, 255), 1, tipLength = 0.5)\n",
    "\n",
    "    points_previous = endpoints_new.copy()\n",
    "    endpoints_new = endpoints_next.copy()\n",
    "\n",
    "    cv.imshow('result', frame)\n",
    "    out.write(frame)\n",
    "\n",
    "    if(count % 15 == 0):\n",
    "        save_address =\"../Outputs/Q2/\" + str(count) + \".png\"\n",
    "        cv.imwrite(save_address, frame)\n",
    "    count += 1\n",
    "\n",
    "    k = cv.waitKey(30) & 0xff\n",
    "    if k == 27:\n",
    "        break\n",
    "\n",
    "out.release()\n",
    "cv.destroyAllWindows()"
   ]
  },
  {
   "attachments": {},
   "cell_type": "markdown",
   "metadata": {},
   "source": [
    "================================== Part Three - Farneback =================================="
   ]
  },
  {
   "cell_type": "code",
   "execution_count": 25,
   "metadata": {},
   "outputs": [],
   "source": [
    "video = cv.VideoCapture(video_address)\n",
    "_, frame = video.read()\n",
    "previous_image = cv.cvtColor(frame, cv.COLOR_BGR2GRAY)\n",
    "output_HSV = np.zeros_like(frame)\n",
    "output_HSV[..., 1] = 255\n",
    "count = 1\n",
    "fourcc = cv.VideoWriter_fourcc(*'MP4V')\n",
    "out_Farneback = cv.VideoWriter('output_Farneback.mp4', fourcc, 30.0, (previous_image.shape[1], previous_image.shape[0]))\n",
    "\n",
    "while(1):\n",
    "    ret, frame = video.read()\n",
    "    if not ret:\n",
    "        break\n",
    "    \n",
    "    new_image = cv.cvtColor(frame, cv.COLOR_BGR2GRAY)\n",
    "    flow = cv.calcOpticalFlowFarneback(previous_image, new_image, flow, 0.5, 3, 15, 3, 5, 1.2, 0)\n",
    "    mag, ang = cv.cartToPolar(flow[..., 0], flow[..., 1])\n",
    "    output_HSV[..., 0] = ang*180/np.pi/2\n",
    "    output_HSV[..., 2] = cv.normalize(mag, None, 0, 255, cv.NORM_MINMAX)\n",
    "    output_BGR = cv.cvtColor(output_HSV, cv.COLOR_HSV2BGR)\n",
    "\n",
    "    cv.imshow('output', output_BGR)\n",
    "\n",
    "    k = cv.waitKey(30) & 0xff\n",
    "    if k == 27:\n",
    "        break\n",
    "\n",
    "    out_Farneback.write(output_BGR)\n",
    "    if(count % 15 == 0):\n",
    "        save_address =\"../Outputs/Q3/\" + str(count) + \".png\"\n",
    "        cv.imwrite(save_address, output_BGR)\n",
    "    count += 1\n",
    "    previous_image = new_image\n",
    "\n",
    "cv.destroyAllWindows()\n",
    "out_Farneback.release()"
   ]
  }
 ],
 "metadata": {
  "kernelspec": {
   "display_name": "Python 3",
   "language": "python",
   "name": "python3"
  },
  "language_info": {
   "codemirror_mode": {
    "name": "ipython",
    "version": 3
   },
   "file_extension": ".py",
   "mimetype": "text/x-python",
   "name": "python",
   "nbconvert_exporter": "python",
   "pygments_lexer": "ipython3",
   "version": "3.10.9"
  },
  "orig_nbformat": 4,
  "vscode": {
   "interpreter": {
    "hash": "a9cff5a362bc38ef45d817ae74b1af54d6a076e3d773891282bce078b815ba34"
   }
  }
 },
 "nbformat": 4,
 "nbformat_minor": 2
}
